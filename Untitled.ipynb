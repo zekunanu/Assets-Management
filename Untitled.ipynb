{
 "cells": [
  {
   "cell_type": "code",
   "execution_count": 43,
   "metadata": {
    "collapsed": true
   },
   "outputs": [],
   "source": [
    "import sqlite3\n",
    "import pandas as pd\n",
    "\n",
    "cx = sqlite3.connect(\"test.db\")\n",
    "\n",
    "cu = cx.cursor()\n",
    "\n",
    "def search_item(item):\n",
    "    df = pd.read_sql_query('select items.*,equis.Equipment,equis.Position from items inner join equis on items.id = equis.Item where items.Item like \"%'\\\n",
    "                           +item+'%\";', cx)\n",
    "    #cu.execute('select items.*,equis.* from items inner join equis on items.id = equis.Item where items.Item like \"%ue%\"')\n",
    "    print(df.head())"
   ]
  },
  {
   "cell_type": "code",
   "execution_count": 45,
   "metadata": {},
   "outputs": [
    {
     "name": "stdout",
     "output_type": "stream",
     "text": [
      "   ID                    Item QuantityNeeded QuantityArrived  \\\n",
      "0   7  NSA 3GPP UE-Cab 3|5GHz              1               1   \n",
      "1   8   SA 3GPP UE-Cab 3|5GHz              4               4   \n",
      "2   8   SA 3GPP UE-Cab 3|5GHz              4               4   \n",
      "3   8   SA 3GPP UE-Cab 3|5GHz              4               4   \n",
      "4   8   SA 3GPP UE-Cab 3|5GHz              4               4   \n",
      "\n",
      "                   Comments            Equipment Position  \n",
      "0  check 轮子, BBg2板子（只有研发能买）  MIIT Leap UE Cab #1      Lab  \n",
      "1                      None  MIIT Leap UE Cab #2      Lab  \n",
      "2                      None  MIIT Leap UE Cab #3      Lab  \n",
      "3                      None  MIIT Leap UE Cab #4      Lab  \n",
      "4                      None  MIIT Leap UE Cab #5      Lab  \n"
     ]
    }
   ],
   "source": [
    "search_item('SA 3GPP UE-Cab 3')"
   ]
  },
  {
   "cell_type": "code",
   "execution_count": 28,
   "metadata": {},
   "outputs": [
    {
     "data": {
      "text/plain": [
       "<sqlite3.Cursor at 0x4cec960>"
      ]
     },
     "execution_count": 28,
     "metadata": {},
     "output_type": "execute_result"
    }
   ],
   "source": [
    "cu.execute('PRAGMA table_info([items]);')"
   ]
  },
  {
   "cell_type": "code",
   "execution_count": 29,
   "metadata": {
    "collapsed": true
   },
   "outputs": [],
   "source": [
    "x = cu.fetchall()"
   ]
  },
  {
   "cell_type": "code",
   "execution_count": null,
   "metadata": {
    "collapsed": true
   },
   "outputs": [],
   "source": [
    "zip([]"
   ]
  }
 ],
 "metadata": {
  "kernelspec": {
   "display_name": "Python 3",
   "language": "python",
   "name": "python3"
  },
  "language_info": {
   "codemirror_mode": {
    "name": "ipython",
    "version": 3
   },
   "file_extension": ".py",
   "mimetype": "text/x-python",
   "name": "python",
   "nbconvert_exporter": "python",
   "pygments_lexer": "ipython3",
   "version": "3.5.3"
  }
 },
 "nbformat": 4,
 "nbformat_minor": 2
}
